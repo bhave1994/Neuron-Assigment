{
 "cells": [
  {
   "cell_type": "code",
   "execution_count": null,
   "metadata": {},
   "outputs": [],
   "source": [
    "1. To what does a relative path refer?\n",
    "2. What does an absolute path start with your operating system?\n",
    "3. What do the functions os.getcwd() and os.chdir() do?\n",
    "4. What are the . and .. folders?\n",
    "5. In C:\\bacon\\eggs\\spam.txt, which part is the dir name, and which part is the base name?\n",
    "6. What are the three “mode” arguments that can be passed to the open() function?\n",
    "7. What happens if an existing file is opened in write mode?\n",
    "8. How do you tell the difference between read() and readlines()?\n",
    "9. What data structure does a shelf value resemble?"
   ]
  },
  {
   "cell_type": "code",
   "execution_count": 5,
   "metadata": {},
   "outputs": [
    {
     "name": "stdout",
     "output_type": "stream",
     "text": [
      "Python basic assignment\n"
     ]
    }
   ],
   "source": [
    "#1\n",
    "import os\n",
    "\n",
    "path='E:/Ineuron Full stack data science/Python basic assignment'\n",
    "start='E:/Ineuron Full stack data science'\n",
    "relative_path=os.path.relpath(path,start)\n",
    "print(relative_path)\n"
   ]
  },
  {
   "cell_type": "code",
   "execution_count": 3,
   "metadata": {},
   "outputs": [
    {
     "name": "stdout",
     "output_type": "stream",
     "text": [
      "True\n"
     ]
    }
   ],
   "source": [
    "#2\n",
    "#In Windows absolute path start with a backward slash (‘\\’)\n",
    "\n",
    "import os.path\n",
    "  \n",
    "# Path\n",
    "path = 'E:/Ineuron Full stack data science/Python basic assignment'\n",
    "\n",
    "isabsolute = os.path.isabs(path)\n",
    "print(isabs)"
   ]
  },
  {
   "cell_type": "code",
   "execution_count": 7,
   "metadata": {},
   "outputs": [
    {
     "name": "stdout",
     "output_type": "stream",
     "text": [
      "E:\\Ineuron Full stack data science\\Python basic assignment\n"
     ]
    }
   ],
   "source": [
    "#3\n",
    "import os\n",
    "print(os.getcwd())#used to get the current directory\n",
    "os.chdir(\"E:/Ineuron Full stack data science/Python basic assignment\")#used to change the working directory"
   ]
  },
  {
   "cell_type": "code",
   "execution_count": null,
   "metadata": {},
   "outputs": [],
   "source": [
    "#4\n",
    "\n",
    "\".\" is the current directory.\n",
    "\n",
    "\"..\" is the parent directory"
   ]
  },
  {
   "cell_type": "markdown",
   "metadata": {},
   "source": [
    "#5\n",
    "C:\\bacon\\eggs is the dir name\n",
    "spam. txt is the base name."
   ]
  },
  {
   "cell_type": "code",
   "execution_count": null,
   "metadata": {},
   "outputs": [],
   "source": [
    "#6\n",
    "Three modes are \n",
    "#r - read only mode \n",
    "#r+ - read only mode in Binary format,start reading from begenning of the file  \n",
    "#rb - open file for reading and writing."
   ]
  },
  {
   "cell_type": "markdown",
   "metadata": {},
   "source": [
    "#7\n",
    "If a file that has a same name already exists then its contents are discarded and the file is treated as a new fresh file."
   ]
  },
  {
   "cell_type": "code",
   "execution_count": 36,
   "metadata": {},
   "outputs": [
    {
     "name": "stdout",
     "output_type": "stream",
     "text": [
      "output for read access is ['bdajkbdjkabdjajbd'] and for readlines it is bdajkbdjkabdjajbd\n"
     ]
    }
   ],
   "source": [
    "#8\n",
    "#Read is used to read single character while the readline is used to read a line or string.\n",
    "\n",
    "f=open(\"f.txt\",\"r\")\n",
    "#read=f.readlines()\n",
    "readlines=f.read()\n",
    "print(\"output for read access is {} and for readlines it is {}\".format(read,readlines))"
   ]
  },
  {
   "cell_type": "code",
   "execution_count": null,
   "metadata": {},
   "outputs": [],
   "source": [
    "#9\n",
    "A shelf value resemble the structure of dictionary data .\n"
   ]
  }
 ],
 "metadata": {
  "kernelspec": {
   "display_name": "Python 3",
   "language": "python",
   "name": "python3"
  },
  "language_info": {
   "codemirror_mode": {
    "name": "ipython",
    "version": 3
   },
   "file_extension": ".py",
   "mimetype": "text/x-python",
   "name": "python",
   "nbconvert_exporter": "python",
   "pygments_lexer": "ipython3",
   "version": "3.8.5"
  }
 },
 "nbformat": 4,
 "nbformat_minor": 4
}
