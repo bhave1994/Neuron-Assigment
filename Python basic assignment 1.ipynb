{
 "cells": [
  {
   "cell_type": "markdown",
   "metadata": {},
   "source": [
    "# 1. What are the differences between operators and values in the following?"
   ]
  },
  {
   "cell_type": "markdown",
   "metadata": {},
   "source": [
    "The operator are used to carryout operation for values or betweeen operands.\n",
    "\n",
    "* = This is multiplication sign\n",
    "'hello'= This string value as it is enclosed within single quite and can be double quotes as well\n",
    "-87.8 = This integer value with a negative operator sign\n",
    "- = This is subtraction operator \n",
    "/ = This is division operator\n",
    "+ = This is a addition operator\n",
    "6 = This is integer value."
   ]
  },
  {
   "cell_type": "markdown",
   "metadata": {},
   "source": [
    " # 2. What is the difference between string and variable?"
   ]
  },
  {
   "cell_type": "markdown",
   "metadata": {},
   "source": [
    "spam - Here spam is variable as it will store some kind of value within it.\n",
    "'spam'- This is something a type of information that we are storing in a variable it can integer as well."
   ]
  },
  {
   "cell_type": "markdown",
   "metadata": {},
   "source": [
    "# 3. Describe three different data forms."
   ]
  },
  {
   "cell_type": "markdown",
   "metadata": {},
   "source": [
    "There Type of data forms are \n",
    "integers, floating-point numbers and complex numbers\n",
    "will explain Integer and python with example\n",
    "eg:\n",
    "a=5  This variable is storing a integer value.\n",
    "b=5.0  This variable stores a float value as it include decimal values as well.\n",
    "Complex number are written in form of x+yj where x is real number and y is imaginery part\n",
    "eg\n",
    "type(5+3j)\n",
    "output is complex"
   ]
  },
  {
   "cell_type": "markdown",
   "metadata": {},
   "source": [
    "# 4. What makes up an expression? What are the functions of all expressions?"
   ]
  },
  {
   "cell_type": "code",
   "execution_count": null,
   "metadata": {},
   "outputs": [],
   "source": [
    "Operation between minimum two makes up a experation\n",
    "Expression can consist of numbers,fraction,variable and operators\n",
    "Function of expression are :\n",
    "To solve a mathematical problem\n",
    "To derive out a result when there is operation between numbers.\n",
    "There are three type of expression:Algebraic,Fractional and Arithmetic"
   ]
  },
  {
   "cell_type": "markdown",
   "metadata": {},
   "source": [
    "# 5. In this chapter, assignment statements such as spam = 10 were added. What's the difference between a declaration and an expression?"
   ]
  },
  {
   "cell_type": "markdown",
   "metadata": {},
   "source": [
    "Declaration means binding a variable to its datatype but declaration of variable is not required in python.\n",
    "while a expression is sequence of operands and operators, if some operation is performed on spam variable suppose\n",
    "if some number is added to it\n",
    "Code:\n",
    "Spam=10\n",
    "Spammer=Spam+10 (this is a expression)\n"
   ]
  },
  {
   "cell_type": "markdown",
   "metadata": {},
   "source": [
    "# 6. After running the following code, what does the variable bacon contain?\n",
    "bacon = 22\n",
    "bacon + 1"
   ]
  },
  {
   "cell_type": "code",
   "execution_count": 14,
   "metadata": {},
   "outputs": [
    {
     "data": {
      "text/plain": [
       "23"
      ]
     },
     "execution_count": 14,
     "metadata": {},
     "output_type": "execute_result"
    }
   ],
   "source": [
    "#Here variable bacon contain a integer value.\n",
    "bacon = 22\n",
    "bacon + 1"
   ]
  },
  {
   "cell_type": "markdown",
   "metadata": {},
   "source": [
    "# 7. What should the values of the following two terms be?"
   ]
  },
  {
   "cell_type": "code",
   "execution_count": 21,
   "metadata": {},
   "outputs": [
    {
     "name": "stdout",
     "output_type": "stream",
     "text": [
      "spamspamspam\n",
      "spamspamspam\n"
     ]
    }
   ],
   "source": [
    "print('spam' +'spamspam')\n",
    "print('spam'*3)\n",
    "#output will be same for both of these values."
   ]
  },
  {
   "cell_type": "markdown",
   "metadata": {},
   "source": [
    "# 8. Why is it that eggs is a true variable name but 100 is not?"
   ]
  },
  {
   "cell_type": "code",
   "execution_count": null,
   "metadata": {},
   "outputs": [],
   "source": [
    "eggs can be assigned a values.\n",
    "100 is a value that can be assigned to eggs variable but the egg cannot be assigned to 100\n",
    "it will result in a error."
   ]
  },
  {
   "cell_type": "code",
   "execution_count": 25,
   "metadata": {},
   "outputs": [
    {
     "ename": "SyntaxError",
     "evalue": "cannot assign to literal (<ipython-input-25-091a04d069e7>, line 1)",
     "output_type": "error",
     "traceback": [
      "\u001b[1;36m  File \u001b[1;32m\"<ipython-input-25-091a04d069e7>\"\u001b[1;36m, line \u001b[1;32m1\u001b[0m\n\u001b[1;33m    100=egg\u001b[0m\n\u001b[1;37m    ^\u001b[0m\n\u001b[1;31mSyntaxError\u001b[0m\u001b[1;31m:\u001b[0m cannot assign to literal\n"
     ]
    }
   ],
   "source": [
    "100=egg"
   ]
  },
  {
   "cell_type": "markdown",
   "metadata": {},
   "source": [
    "# 9. Which of the following three functions may be used to convert a value to an integer, a floating-point number, or a string?"
   ]
  },
  {
   "cell_type": "code",
   "execution_count": 48,
   "metadata": {},
   "outputs": [
    {
     "name": "stdout",
     "output_type": "stream",
     "text": [
      "10\n",
      "10 <class 'str'>\n",
      "10.0\n"
     ]
    }
   ],
   "source": [
    "a=10\n",
    "print(int(a))#int function convert value to int\n",
    "b=str(a)# function convert any value to string\n",
    "print(b,type(b))\n",
    "print(float(a))# Float function convert value to float"
   ]
  },
  {
   "cell_type": "markdown",
   "metadata": {},
   "source": [
    "# 10. What is the error caused by this expression? What would you do about it?"
   ]
  },
  {
   "cell_type": "code",
   "execution_count": 58,
   "metadata": {},
   "outputs": [
    {
     "data": {
      "text/plain": [
       "'I have eaten99burritos.'"
      ]
     },
     "execution_count": 58,
     "metadata": {},
     "output_type": "execute_result"
    }
   ],
   "source": [
    "'I have eaten'  + '99' +  'burritos.'\n",
    "#99 value to be converted into string,string concatenation should have all values as string only.\n",
    "#we can use str function also to convert 99 to string"
   ]
  }
 ],
 "metadata": {
  "kernelspec": {
   "display_name": "Python 3",
   "language": "python",
   "name": "python3"
  },
  "language_info": {
   "codemirror_mode": {
    "name": "ipython",
    "version": 3
   },
   "file_extension": ".py",
   "mimetype": "text/x-python",
   "name": "python",
   "nbconvert_exporter": "python",
   "pygments_lexer": "ipython3",
   "version": "3.8.5"
  }
 },
 "nbformat": 4,
 "nbformat_minor": 4
}
