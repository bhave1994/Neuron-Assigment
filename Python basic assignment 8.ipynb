{
 "cells": [
  {
   "cell_type": "code",
   "execution_count": null,
   "metadata": {},
   "outputs": [],
   "source": [
    "1. Is the Python Standard Library included with PyInputPlus?\n",
    "2. Why is PyInputPlus commonly imported with import pyinputplus as pypi?\n",
    "3. How do you distinguish between inputInt() and inputFloat()?\n",
    "4. Using PyInputPlus, how do you ensure that the user enters a whole number between 0 and 99?\n",
    "5. What is transferred to the keyword arguments allowRegexes and blockRegexes?\n",
    "6. If a blank input is entered three times, what does inputStr(limit=3) do?    "
   ]
  },
  {
   "cell_type": "markdown",
   "metadata": {},
   "source": [
    "#1\n",
    "We need to install PyInputPlus seperately as it is not a part of the Python Standard Library"
   ]
  },
  {
   "cell_type": "markdown",
   "metadata": {},
   "source": [
    "#2\n",
    "We use shorter name as pypi While calling PyInputPlus library as it saves time in code writing. \n"
   ]
  },
  {
   "cell_type": "markdown",
   "metadata": {},
   "source": [
    "#3\n",
    "#Input in int format means value input function will accept only integer value.\n",
    "#Input in float format means value input function will accept values as float only.\n",
    "a=int(input(\"Enter the number\"))\n",
    "b=float(input(\"Enter the number\"))\n",
    "\n",
    "print(\"value in int is {} and value in float is {}\".format(a,b))"
   ]
  },
  {
   "cell_type": "code",
   "execution_count": 2,
   "metadata": {},
   "outputs": [
    {
     "name": "stdout",
     "output_type": "stream",
     "text": [
      "ww\n",
      "'ww' is not a number.\n",
      "10\n",
      "10\n"
     ]
    }
   ],
   "source": [
    "#4\n",
    "#!pip install PyInputPlus\n",
    "\n",
    "#!pip install pyinputplus\n",
    "import pyinputplus as pypi\n",
    "value = pypi.inputNum(min=0, max=99)\n",
    "print(value)"
   ]
  },
  {
   "cell_type": "code",
   "execution_count": 3,
   "metadata": {},
   "outputs": [
    {
     "name": "stdout",
     "output_type": "stream",
     "text": [
      "What is your phone?999999\n",
      "Your phone is 999999\n",
      "Enter a string... mss\n",
      "mss\n"
     ]
    }
   ],
   "source": [
    "#5\n",
    "import pyinputplus\n",
    "phone = pyinputplus.inputNum(prompt='What is your phone?',  allowRegexes=[r'\\d{3}-\\d{3}-\\d{4}', r'None'])\n",
    "#Allow regex will permit user only to enter number,or use can write none.\n",
    "print('Your phone is', phone)\n",
    "\n",
    "\n",
    "input = pyinputplus.inputStr(prompt=\"Enter a string... \", \n",
    "                    blank=True, blockRegexes = 'aeiou')\n",
    "#Blockregex does not allow user to enter the value provided in blockregex.\n",
    "  \n",
    "print(input)"
   ]
  },
  {
   "cell_type": "code",
   "execution_count": 4,
   "metadata": {},
   "outputs": [
    {
     "name": "stdout",
     "output_type": "stream",
     "text": [
      "12\n"
     ]
    }
   ],
   "source": [
    "#6\n",
    "import pyinputplus as pyip\n",
    "input = pyip.inputNum(limit=3)\n",
    "\n",
    "#If user has not entered value for 3 times,then at fourth attempt error is thrown"
   ]
  }
 ],
 "metadata": {
  "kernelspec": {
   "display_name": "Python 3",
   "language": "python",
   "name": "python3"
  },
  "language_info": {
   "codemirror_mode": {
    "name": "ipython",
    "version": 3
   },
   "file_extension": ".py",
   "mimetype": "text/x-python",
   "name": "python",
   "nbconvert_exporter": "python",
   "pygments_lexer": "ipython3",
   "version": "3.8.5"
  }
 },
 "nbformat": 4,
 "nbformat_minor": 4
}
