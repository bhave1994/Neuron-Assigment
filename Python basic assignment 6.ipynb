{
 "cells": [
  {
   "cell_type": "markdown",
   "metadata": {},
   "source": [
    "#Questions\n",
    "1. What are escape characters, and how do you use them?\n",
    "2. What do the escape characters n and t stand for?\n",
    "3. What is the way to include backslash characters in a string?\n",
    "4. The string is Moving Castle is a correct value. Why isn't the single quote character in the\n",
    "   word How's not escaped a problem?\n",
    "5. How do you write a string of newlines if you don't want to use the n character?\n",
    "6. What are the values of the given expressions?\n",
    "    'Hello, world!'[1]\n",
    "    'Hello, world!'[0:5]\n",
    "    'Hello, world!'[:5]\n",
    "    'Hello, world!'[3:]\n",
    "7. What are the values of the following expressions?\n",
    "    'Hello'.upper()\n",
    "    'Hello'.upper().isupper()\n",
    "    'Hello'.upper().lower()\n",
    "8. What are the values of the following expressions?\n",
    "    'Remember, remember, the fifth of July'.split()\n",
    "    '-'.join('There can only one'.split())\n",
    "9. What are the methods for right-justifying, left-justifying, and centering a string?\n",
    "10. What is the best way to remove whitespace characters from the start or end?    "
   ]
  },
  {
   "cell_type": "code",
   "execution_count": 21,
   "metadata": {},
   "outputs": [
    {
     "name": "stdout",
     "output_type": "stream",
     "text": [
      "Artificial intelligence (AI) refers to the simulation of human intelligence in machines that are programmed \"MachineLearning\" to think like humans and mimic their actions. \n"
     ]
    }
   ],
   "source": [
    "#Q1\n",
    "#To insert illegal character we make use of escape character\n",
    "text=\"Artificial intelligence (AI) refers to the simulation of human intelligence in machines that are programmed \\\"MachineLearning\\\" to think like humans and mimic their actions. \"\n",
    "print(text)"
   ]
  },
  {
   "cell_type": "code",
   "execution_count": 14,
   "metadata": {},
   "outputs": [],
   "source": [
    "#Q2\n",
    "#n stands for new line,it is written as \\n\n",
    "#t stands for tab,it is written as \\n"
   ]
  },
  {
   "cell_type": "code",
   "execution_count": 30,
   "metadata": {},
   "outputs": [
    {
     "name": "stdout",
     "output_type": "stream",
     "text": [
      "Use backslash like this \\\n"
     ]
    }
   ],
   "source": [
    "#Q3\n",
    "text = \"Use backslash like this \" \"\\\\\"\n",
    "print(text)"
   ]
  },
  {
   "cell_type": "code",
   "execution_count": 37,
   "metadata": {},
   "outputs": [],
   "source": [
    "#Q4\n",
    "test=\"Howl's Moving Castle\"\n",
    "#As it is only a single quote,hence it would not create a problem\n",
    "#If it is double quotes,then it could create issues as the text is already enclosed within double quotes"
   ]
  },
  {
   "cell_type": "code",
   "execution_count": 56,
   "metadata": {},
   "outputs": [
    {
     "name": "stdout",
     "output_type": "stream",
     "text": [
      "This is line one \n",
      "...and this is line two\n"
     ]
    }
   ],
   "source": [
    "#Q5\n",
    "my_string = \"\"\"This is line one \n",
    "...and this is line two\"\"\" \n",
    "print(my_string) "
   ]
  },
  {
   "cell_type": "code",
   "execution_count": 27,
   "metadata": {},
   "outputs": [
    {
     "name": "stdout",
     "output_type": "stream",
     "text": [
      "e\n",
      "Hello\n",
      "Hello\n",
      "lo, world!\n"
     ]
    },
    {
     "data": {
      "text/plain": [
       "'###Hello, world!####'"
      ]
     },
     "execution_count": 27,
     "metadata": {},
     "output_type": "execute_result"
    }
   ],
   "source": [
    "#6\n",
    "a='Hello, world!'\n",
    "print(a[1])\n",
    "print(a[0:5])\n",
    "print(a[:5])\n",
    "print(a[3:])\n"
   ]
  },
  {
   "cell_type": "code",
   "execution_count": 6,
   "metadata": {},
   "outputs": [
    {
     "name": "stdout",
     "output_type": "stream",
     "text": [
      "HELLO\n",
      "True\n",
      "hello\n"
     ]
    }
   ],
   "source": [
    "#7\n",
    "print('Hello'.upper())\n",
    "print('Hello'.upper().isupper())\n",
    "print('Hello'.upper().lower())\n"
   ]
  },
  {
   "cell_type": "code",
   "execution_count": 18,
   "metadata": {},
   "outputs": [
    {
     "data": {
      "text/plain": [
       "'There-can-only-one.'"
      ]
     },
     "execution_count": 18,
     "metadata": {},
     "output_type": "execute_result"
    }
   ],
   "source": [
    "#8\n",
    "'Remember, remember, the fifth of July'.split()\n",
    "'-'.join('There can only one.'.split())"
   ]
  },
  {
   "cell_type": "code",
   "execution_count": 30,
   "metadata": {},
   "outputs": [
    {
     "name": "stdout",
     "output_type": "stream",
     "text": [
      "Hello, world!#######\n",
      "#######Hello, world!\n",
      "###Hello, world!####\n"
     ]
    }
   ],
   "source": [
    "#9\n",
    "a='Hello, world!'\n",
    "\n",
    "print(a.ljust(20,'#'))\n",
    "print(a.rjust(20,'#'))\n",
    "print(a.center(20,'#'))\n",
    "\n",
    "#Method for right-justifying rjust() , left-justifying, and centering a string\n",
    "#are rjust(),ljust() and center() respectively"
   ]
  },
  {
   "cell_type": "code",
   "execution_count": 45,
   "metadata": {},
   "outputs": [
    {
     "name": "stdout",
     "output_type": "stream",
     "text": [
      "Hello  \n",
      "  Hello\n"
     ]
    }
   ],
   "source": [
    "#10\n",
    "a='  Hello  '\n",
    "#To remove white spaces from end\n",
    "print(a.lstrip())\n",
    "#To remove white spaces from start\n",
    "print(a.rstrip())"
   ]
  }
 ],
 "metadata": {
  "kernelspec": {
   "display_name": "Python 3",
   "language": "python",
   "name": "python3"
  },
  "language_info": {
   "codemirror_mode": {
    "name": "ipython",
    "version": 3
   },
   "file_extension": ".py",
   "mimetype": "text/x-python",
   "name": "python",
   "nbconvert_exporter": "python",
   "pygments_lexer": "ipython3",
   "version": "3.8.5"
  }
 },
 "nbformat": 4,
 "nbformat_minor": 4
}
